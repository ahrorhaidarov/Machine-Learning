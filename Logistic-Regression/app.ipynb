{
 "cells": [
  {
   "cell_type": "code",
   "execution_count": 24,
   "id": "initial_id",
   "metadata": {
    "collapsed": true,
    "ExecuteTime": {
     "end_time": "2024-02-05T11:50:27.415943363Z",
     "start_time": "2024-02-05T11:50:27.361306662Z"
    }
   },
   "outputs": [],
   "source": [
    "import pandas as pd\n",
    "import numpy as np\n",
    "import matplotlib.pyplot as plt\n",
    "from sklearn.model_selection import train_test_split\n",
    "from sklearn.linear_model import LogisticRegression\n",
    "from sklearn.preprocessing import StandardScaler\n",
    "%matplotlib inline"
   ]
  },
  {
   "cell_type": "code",
   "execution_count": 27,
   "outputs": [
    {
     "data": {
      "text/plain": "     Unnamed: 0  Age  Sex     ChestPain  RestBP  Chol  Fbs  RestECG  MaxHR  \\\n0             1   63    1       typical     145   233    1        2    150   \n1             2   67    1  asymptomatic     160   286    0        2    108   \n2             3   67    1  asymptomatic     120   229    0        2    129   \n3             4   37    1    nonanginal     130   250    0        0    187   \n4             5   41    0    nontypical     130   204    0        2    172   \n..          ...  ...  ...           ...     ...   ...  ...      ...    ...   \n298         299   45    1       typical     110   264    0        0    132   \n299         300   68    1  asymptomatic     144   193    1        0    141   \n300         301   57    1  asymptomatic     130   131    0        0    115   \n301         302   57    0    nontypical     130   236    0        2    174   \n302         303   38    1    nonanginal     138   175    0        0    173   \n\n     ExAng  Oldpeak  Slope   Ca        Thal  AHD  \n0        0      2.3      3  0.0       fixed   No  \n1        1      1.5      2  3.0      normal  Yes  \n2        1      2.6      2  2.0  reversable  Yes  \n3        0      3.5      3  0.0      normal   No  \n4        0      1.4      1  0.0      normal   No  \n..     ...      ...    ...  ...         ...  ...  \n298      0      1.2      2  0.0  reversable  Yes  \n299      0      3.4      2  2.0  reversable  Yes  \n300      1      1.2      2  1.0  reversable  Yes  \n301      0      0.0      2  1.0      normal  Yes  \n302      0      0.0      1  NaN      normal   No  \n\n[303 rows x 15 columns]",
      "text/html": "<div>\n<style scoped>\n    .dataframe tbody tr th:only-of-type {\n        vertical-align: middle;\n    }\n\n    .dataframe tbody tr th {\n        vertical-align: top;\n    }\n\n    .dataframe thead th {\n        text-align: right;\n    }\n</style>\n<table border=\"1\" class=\"dataframe\">\n  <thead>\n    <tr style=\"text-align: right;\">\n      <th></th>\n      <th>Unnamed: 0</th>\n      <th>Age</th>\n      <th>Sex</th>\n      <th>ChestPain</th>\n      <th>RestBP</th>\n      <th>Chol</th>\n      <th>Fbs</th>\n      <th>RestECG</th>\n      <th>MaxHR</th>\n      <th>ExAng</th>\n      <th>Oldpeak</th>\n      <th>Slope</th>\n      <th>Ca</th>\n      <th>Thal</th>\n      <th>AHD</th>\n    </tr>\n  </thead>\n  <tbody>\n    <tr>\n      <th>0</th>\n      <td>1</td>\n      <td>63</td>\n      <td>1</td>\n      <td>typical</td>\n      <td>145</td>\n      <td>233</td>\n      <td>1</td>\n      <td>2</td>\n      <td>150</td>\n      <td>0</td>\n      <td>2.3</td>\n      <td>3</td>\n      <td>0.0</td>\n      <td>fixed</td>\n      <td>No</td>\n    </tr>\n    <tr>\n      <th>1</th>\n      <td>2</td>\n      <td>67</td>\n      <td>1</td>\n      <td>asymptomatic</td>\n      <td>160</td>\n      <td>286</td>\n      <td>0</td>\n      <td>2</td>\n      <td>108</td>\n      <td>1</td>\n      <td>1.5</td>\n      <td>2</td>\n      <td>3.0</td>\n      <td>normal</td>\n      <td>Yes</td>\n    </tr>\n    <tr>\n      <th>2</th>\n      <td>3</td>\n      <td>67</td>\n      <td>1</td>\n      <td>asymptomatic</td>\n      <td>120</td>\n      <td>229</td>\n      <td>0</td>\n      <td>2</td>\n      <td>129</td>\n      <td>1</td>\n      <td>2.6</td>\n      <td>2</td>\n      <td>2.0</td>\n      <td>reversable</td>\n      <td>Yes</td>\n    </tr>\n    <tr>\n      <th>3</th>\n      <td>4</td>\n      <td>37</td>\n      <td>1</td>\n      <td>nonanginal</td>\n      <td>130</td>\n      <td>250</td>\n      <td>0</td>\n      <td>0</td>\n      <td>187</td>\n      <td>0</td>\n      <td>3.5</td>\n      <td>3</td>\n      <td>0.0</td>\n      <td>normal</td>\n      <td>No</td>\n    </tr>\n    <tr>\n      <th>4</th>\n      <td>5</td>\n      <td>41</td>\n      <td>0</td>\n      <td>nontypical</td>\n      <td>130</td>\n      <td>204</td>\n      <td>0</td>\n      <td>2</td>\n      <td>172</td>\n      <td>0</td>\n      <td>1.4</td>\n      <td>1</td>\n      <td>0.0</td>\n      <td>normal</td>\n      <td>No</td>\n    </tr>\n    <tr>\n      <th>...</th>\n      <td>...</td>\n      <td>...</td>\n      <td>...</td>\n      <td>...</td>\n      <td>...</td>\n      <td>...</td>\n      <td>...</td>\n      <td>...</td>\n      <td>...</td>\n      <td>...</td>\n      <td>...</td>\n      <td>...</td>\n      <td>...</td>\n      <td>...</td>\n      <td>...</td>\n    </tr>\n    <tr>\n      <th>298</th>\n      <td>299</td>\n      <td>45</td>\n      <td>1</td>\n      <td>typical</td>\n      <td>110</td>\n      <td>264</td>\n      <td>0</td>\n      <td>0</td>\n      <td>132</td>\n      <td>0</td>\n      <td>1.2</td>\n      <td>2</td>\n      <td>0.0</td>\n      <td>reversable</td>\n      <td>Yes</td>\n    </tr>\n    <tr>\n      <th>299</th>\n      <td>300</td>\n      <td>68</td>\n      <td>1</td>\n      <td>asymptomatic</td>\n      <td>144</td>\n      <td>193</td>\n      <td>1</td>\n      <td>0</td>\n      <td>141</td>\n      <td>0</td>\n      <td>3.4</td>\n      <td>2</td>\n      <td>2.0</td>\n      <td>reversable</td>\n      <td>Yes</td>\n    </tr>\n    <tr>\n      <th>300</th>\n      <td>301</td>\n      <td>57</td>\n      <td>1</td>\n      <td>asymptomatic</td>\n      <td>130</td>\n      <td>131</td>\n      <td>0</td>\n      <td>0</td>\n      <td>115</td>\n      <td>1</td>\n      <td>1.2</td>\n      <td>2</td>\n      <td>1.0</td>\n      <td>reversable</td>\n      <td>Yes</td>\n    </tr>\n    <tr>\n      <th>301</th>\n      <td>302</td>\n      <td>57</td>\n      <td>0</td>\n      <td>nontypical</td>\n      <td>130</td>\n      <td>236</td>\n      <td>0</td>\n      <td>2</td>\n      <td>174</td>\n      <td>0</td>\n      <td>0.0</td>\n      <td>2</td>\n      <td>1.0</td>\n      <td>normal</td>\n      <td>Yes</td>\n    </tr>\n    <tr>\n      <th>302</th>\n      <td>303</td>\n      <td>38</td>\n      <td>1</td>\n      <td>nonanginal</td>\n      <td>138</td>\n      <td>175</td>\n      <td>0</td>\n      <td>0</td>\n      <td>173</td>\n      <td>0</td>\n      <td>0.0</td>\n      <td>1</td>\n      <td>NaN</td>\n      <td>normal</td>\n      <td>No</td>\n    </tr>\n  </tbody>\n</table>\n<p>303 rows × 15 columns</p>\n</div>"
     },
     "execution_count": 27,
     "metadata": {},
     "output_type": "execute_result"
    }
   ],
   "source": [
    "df = pd.read_csv('Heart.csv')\n",
    "df"
   ],
   "metadata": {
    "collapsed": false,
    "ExecuteTime": {
     "end_time": "2024-02-05T11:51:08.272963305Z",
     "start_time": "2024-02-05T11:51:08.229092565Z"
    }
   },
   "id": "4e6c82a46067f870"
  },
  {
   "cell_type": "code",
   "execution_count": 28,
   "outputs": [],
   "source": [
    "df.drop('Unnamed: 0', inplace=True, axis=1)"
   ],
   "metadata": {
    "collapsed": false,
    "ExecuteTime": {
     "end_time": "2024-02-05T11:51:08.469137792Z",
     "start_time": "2024-02-05T11:51:08.468758826Z"
    }
   },
   "id": "b27a074902cce412"
  },
  {
   "cell_type": "code",
   "execution_count": 29,
   "outputs": [
    {
     "data": {
      "text/plain": "     Age  Sex  ChestPain  RestBP  Chol  Fbs  RestECG  MaxHR  ExAng  Oldpeak  \\\n0     63    1          3     145   233    1        2    150      0      2.3   \n1     67    1          0     160   286    0        2    108      1      1.5   \n2     67    1          0     120   229    0        2    129      1      2.6   \n3     37    1          1     130   250    0        0    187      0      3.5   \n4     41    0          2     130   204    0        2    172      0      1.4   \n..   ...  ...        ...     ...   ...  ...      ...    ...    ...      ...   \n298   45    1          3     110   264    0        0    132      0      1.2   \n299   68    1          0     144   193    1        0    141      0      3.4   \n300   57    1          0     130   131    0        0    115      1      1.2   \n301   57    0          2     130   236    0        2    174      0      0.0   \n302   38    1          1     138   175    0        0    173      0      0.0   \n\n     Slope   Ca  Thal  AHD  \n0        3  0.0     0    0  \n1        2  3.0     1    1  \n2        2  2.0     2    1  \n3        3  0.0     1    0  \n4        1  0.0     1    0  \n..     ...  ...   ...  ...  \n298      2  0.0     2    1  \n299      2  2.0     2    1  \n300      2  1.0     2    1  \n301      2  1.0     1    1  \n302      1  NaN     1    0  \n\n[303 rows x 14 columns]",
      "text/html": "<div>\n<style scoped>\n    .dataframe tbody tr th:only-of-type {\n        vertical-align: middle;\n    }\n\n    .dataframe tbody tr th {\n        vertical-align: top;\n    }\n\n    .dataframe thead th {\n        text-align: right;\n    }\n</style>\n<table border=\"1\" class=\"dataframe\">\n  <thead>\n    <tr style=\"text-align: right;\">\n      <th></th>\n      <th>Age</th>\n      <th>Sex</th>\n      <th>ChestPain</th>\n      <th>RestBP</th>\n      <th>Chol</th>\n      <th>Fbs</th>\n      <th>RestECG</th>\n      <th>MaxHR</th>\n      <th>ExAng</th>\n      <th>Oldpeak</th>\n      <th>Slope</th>\n      <th>Ca</th>\n      <th>Thal</th>\n      <th>AHD</th>\n    </tr>\n  </thead>\n  <tbody>\n    <tr>\n      <th>0</th>\n      <td>63</td>\n      <td>1</td>\n      <td>3</td>\n      <td>145</td>\n      <td>233</td>\n      <td>1</td>\n      <td>2</td>\n      <td>150</td>\n      <td>0</td>\n      <td>2.3</td>\n      <td>3</td>\n      <td>0.0</td>\n      <td>0</td>\n      <td>0</td>\n    </tr>\n    <tr>\n      <th>1</th>\n      <td>67</td>\n      <td>1</td>\n      <td>0</td>\n      <td>160</td>\n      <td>286</td>\n      <td>0</td>\n      <td>2</td>\n      <td>108</td>\n      <td>1</td>\n      <td>1.5</td>\n      <td>2</td>\n      <td>3.0</td>\n      <td>1</td>\n      <td>1</td>\n    </tr>\n    <tr>\n      <th>2</th>\n      <td>67</td>\n      <td>1</td>\n      <td>0</td>\n      <td>120</td>\n      <td>229</td>\n      <td>0</td>\n      <td>2</td>\n      <td>129</td>\n      <td>1</td>\n      <td>2.6</td>\n      <td>2</td>\n      <td>2.0</td>\n      <td>2</td>\n      <td>1</td>\n    </tr>\n    <tr>\n      <th>3</th>\n      <td>37</td>\n      <td>1</td>\n      <td>1</td>\n      <td>130</td>\n      <td>250</td>\n      <td>0</td>\n      <td>0</td>\n      <td>187</td>\n      <td>0</td>\n      <td>3.5</td>\n      <td>3</td>\n      <td>0.0</td>\n      <td>1</td>\n      <td>0</td>\n    </tr>\n    <tr>\n      <th>4</th>\n      <td>41</td>\n      <td>0</td>\n      <td>2</td>\n      <td>130</td>\n      <td>204</td>\n      <td>0</td>\n      <td>2</td>\n      <td>172</td>\n      <td>0</td>\n      <td>1.4</td>\n      <td>1</td>\n      <td>0.0</td>\n      <td>1</td>\n      <td>0</td>\n    </tr>\n    <tr>\n      <th>...</th>\n      <td>...</td>\n      <td>...</td>\n      <td>...</td>\n      <td>...</td>\n      <td>...</td>\n      <td>...</td>\n      <td>...</td>\n      <td>...</td>\n      <td>...</td>\n      <td>...</td>\n      <td>...</td>\n      <td>...</td>\n      <td>...</td>\n      <td>...</td>\n    </tr>\n    <tr>\n      <th>298</th>\n      <td>45</td>\n      <td>1</td>\n      <td>3</td>\n      <td>110</td>\n      <td>264</td>\n      <td>0</td>\n      <td>0</td>\n      <td>132</td>\n      <td>0</td>\n      <td>1.2</td>\n      <td>2</td>\n      <td>0.0</td>\n      <td>2</td>\n      <td>1</td>\n    </tr>\n    <tr>\n      <th>299</th>\n      <td>68</td>\n      <td>1</td>\n      <td>0</td>\n      <td>144</td>\n      <td>193</td>\n      <td>1</td>\n      <td>0</td>\n      <td>141</td>\n      <td>0</td>\n      <td>3.4</td>\n      <td>2</td>\n      <td>2.0</td>\n      <td>2</td>\n      <td>1</td>\n    </tr>\n    <tr>\n      <th>300</th>\n      <td>57</td>\n      <td>1</td>\n      <td>0</td>\n      <td>130</td>\n      <td>131</td>\n      <td>0</td>\n      <td>0</td>\n      <td>115</td>\n      <td>1</td>\n      <td>1.2</td>\n      <td>2</td>\n      <td>1.0</td>\n      <td>2</td>\n      <td>1</td>\n    </tr>\n    <tr>\n      <th>301</th>\n      <td>57</td>\n      <td>0</td>\n      <td>2</td>\n      <td>130</td>\n      <td>236</td>\n      <td>0</td>\n      <td>2</td>\n      <td>174</td>\n      <td>0</td>\n      <td>0.0</td>\n      <td>2</td>\n      <td>1.0</td>\n      <td>1</td>\n      <td>1</td>\n    </tr>\n    <tr>\n      <th>302</th>\n      <td>38</td>\n      <td>1</td>\n      <td>1</td>\n      <td>138</td>\n      <td>175</td>\n      <td>0</td>\n      <td>0</td>\n      <td>173</td>\n      <td>0</td>\n      <td>0.0</td>\n      <td>1</td>\n      <td>NaN</td>\n      <td>1</td>\n      <td>0</td>\n    </tr>\n  </tbody>\n</table>\n<p>303 rows × 14 columns</p>\n</div>"
     },
     "execution_count": 29,
     "metadata": {},
     "output_type": "execute_result"
    }
   ],
   "source": [
    "df['ChestPain'] = df['ChestPain'].astype('category')\n",
    "df['ChestPain'] = df['ChestPain'].cat.codes\n",
    "\n",
    "df['Thal'] = df['Thal'].astype('category')\n",
    "df['Thal'] = df['Thal'].cat.codes\n",
    "\n",
    "df['AHD'] = df['AHD'].astype('category')\n",
    "df['AHD'] = df['AHD'].cat.codes\n",
    "df"
   ],
   "metadata": {
    "collapsed": false,
    "ExecuteTime": {
     "end_time": "2024-02-05T11:51:08.689566899Z",
     "start_time": "2024-02-05T11:51:08.642229224Z"
    }
   },
   "id": "74360d21d40fb86c"
  },
  {
   "cell_type": "code",
   "execution_count": 41,
   "outputs": [
    {
     "data": {
      "text/plain": "Oldpeak    0\nSlope      0\nCa         4\nThal       0\nAHD        0\ndtype: int64"
     },
     "execution_count": 41,
     "metadata": {},
     "output_type": "execute_result"
    }
   ],
   "source": [
    "df.isnull().sum().tail()"
   ],
   "metadata": {
    "collapsed": false,
    "ExecuteTime": {
     "end_time": "2024-02-05T11:51:57.655802601Z",
     "start_time": "2024-02-05T11:51:57.646550413Z"
    }
   },
   "id": "3ebb1817b1394eb9"
  },
  {
   "cell_type": "code",
   "execution_count": 60,
   "outputs": [
    {
     "data": {
      "text/plain": "     Age  Sex  ChestPain  RestBP  Chol  Fbs  RestECG  MaxHR  ExAng  Oldpeak  \\\n0     63    1          3     145   233    1        2    150      0      2.3   \n1     67    1          0     160   286    0        2    108      1      1.5   \n2     67    1          0     120   229    0        2    129      1      2.6   \n3     37    1          1     130   250    0        0    187      0      3.5   \n4     41    0          2     130   204    0        2    172      0      1.4   \n..   ...  ...        ...     ...   ...  ...      ...    ...    ...      ...   \n297   57    0          0     140   241    0        0    123      1      0.2   \n298   45    1          3     110   264    0        0    132      0      1.2   \n299   68    1          0     144   193    1        0    141      0      3.4   \n300   57    1          0     130   131    0        0    115      1      1.2   \n301   57    0          2     130   236    0        2    174      0      0.0   \n\n     Slope   Ca  Thal  \n0        3  0.0     0  \n1        2  3.0     1  \n2        2  2.0     2  \n3        3  0.0     1  \n4        1  0.0     1  \n..     ...  ...   ...  \n297      2  0.0     2  \n298      2  0.0     2  \n299      2  2.0     2  \n300      2  1.0     2  \n301      2  1.0     1  \n\n[299 rows x 13 columns]",
      "text/html": "<div>\n<style scoped>\n    .dataframe tbody tr th:only-of-type {\n        vertical-align: middle;\n    }\n\n    .dataframe tbody tr th {\n        vertical-align: top;\n    }\n\n    .dataframe thead th {\n        text-align: right;\n    }\n</style>\n<table border=\"1\" class=\"dataframe\">\n  <thead>\n    <tr style=\"text-align: right;\">\n      <th></th>\n      <th>Age</th>\n      <th>Sex</th>\n      <th>ChestPain</th>\n      <th>RestBP</th>\n      <th>Chol</th>\n      <th>Fbs</th>\n      <th>RestECG</th>\n      <th>MaxHR</th>\n      <th>ExAng</th>\n      <th>Oldpeak</th>\n      <th>Slope</th>\n      <th>Ca</th>\n      <th>Thal</th>\n    </tr>\n  </thead>\n  <tbody>\n    <tr>\n      <th>0</th>\n      <td>63</td>\n      <td>1</td>\n      <td>3</td>\n      <td>145</td>\n      <td>233</td>\n      <td>1</td>\n      <td>2</td>\n      <td>150</td>\n      <td>0</td>\n      <td>2.3</td>\n      <td>3</td>\n      <td>0.0</td>\n      <td>0</td>\n    </tr>\n    <tr>\n      <th>1</th>\n      <td>67</td>\n      <td>1</td>\n      <td>0</td>\n      <td>160</td>\n      <td>286</td>\n      <td>0</td>\n      <td>2</td>\n      <td>108</td>\n      <td>1</td>\n      <td>1.5</td>\n      <td>2</td>\n      <td>3.0</td>\n      <td>1</td>\n    </tr>\n    <tr>\n      <th>2</th>\n      <td>67</td>\n      <td>1</td>\n      <td>0</td>\n      <td>120</td>\n      <td>229</td>\n      <td>0</td>\n      <td>2</td>\n      <td>129</td>\n      <td>1</td>\n      <td>2.6</td>\n      <td>2</td>\n      <td>2.0</td>\n      <td>2</td>\n    </tr>\n    <tr>\n      <th>3</th>\n      <td>37</td>\n      <td>1</td>\n      <td>1</td>\n      <td>130</td>\n      <td>250</td>\n      <td>0</td>\n      <td>0</td>\n      <td>187</td>\n      <td>0</td>\n      <td>3.5</td>\n      <td>3</td>\n      <td>0.0</td>\n      <td>1</td>\n    </tr>\n    <tr>\n      <th>4</th>\n      <td>41</td>\n      <td>0</td>\n      <td>2</td>\n      <td>130</td>\n      <td>204</td>\n      <td>0</td>\n      <td>2</td>\n      <td>172</td>\n      <td>0</td>\n      <td>1.4</td>\n      <td>1</td>\n      <td>0.0</td>\n      <td>1</td>\n    </tr>\n    <tr>\n      <th>...</th>\n      <td>...</td>\n      <td>...</td>\n      <td>...</td>\n      <td>...</td>\n      <td>...</td>\n      <td>...</td>\n      <td>...</td>\n      <td>...</td>\n      <td>...</td>\n      <td>...</td>\n      <td>...</td>\n      <td>...</td>\n      <td>...</td>\n    </tr>\n    <tr>\n      <th>297</th>\n      <td>57</td>\n      <td>0</td>\n      <td>0</td>\n      <td>140</td>\n      <td>241</td>\n      <td>0</td>\n      <td>0</td>\n      <td>123</td>\n      <td>1</td>\n      <td>0.2</td>\n      <td>2</td>\n      <td>0.0</td>\n      <td>2</td>\n    </tr>\n    <tr>\n      <th>298</th>\n      <td>45</td>\n      <td>1</td>\n      <td>3</td>\n      <td>110</td>\n      <td>264</td>\n      <td>0</td>\n      <td>0</td>\n      <td>132</td>\n      <td>0</td>\n      <td>1.2</td>\n      <td>2</td>\n      <td>0.0</td>\n      <td>2</td>\n    </tr>\n    <tr>\n      <th>299</th>\n      <td>68</td>\n      <td>1</td>\n      <td>0</td>\n      <td>144</td>\n      <td>193</td>\n      <td>1</td>\n      <td>0</td>\n      <td>141</td>\n      <td>0</td>\n      <td>3.4</td>\n      <td>2</td>\n      <td>2.0</td>\n      <td>2</td>\n    </tr>\n    <tr>\n      <th>300</th>\n      <td>57</td>\n      <td>1</td>\n      <td>0</td>\n      <td>130</td>\n      <td>131</td>\n      <td>0</td>\n      <td>0</td>\n      <td>115</td>\n      <td>1</td>\n      <td>1.2</td>\n      <td>2</td>\n      <td>1.0</td>\n      <td>2</td>\n    </tr>\n    <tr>\n      <th>301</th>\n      <td>57</td>\n      <td>0</td>\n      <td>2</td>\n      <td>130</td>\n      <td>236</td>\n      <td>0</td>\n      <td>2</td>\n      <td>174</td>\n      <td>0</td>\n      <td>0.0</td>\n      <td>2</td>\n      <td>1.0</td>\n      <td>1</td>\n    </tr>\n  </tbody>\n</table>\n<p>299 rows × 13 columns</p>\n</div>"
     },
     "execution_count": 60,
     "metadata": {},
     "output_type": "execute_result"
    }
   ],
   "source": [
    "df.dropna(inplace=True)\n",
    "X = df.drop(columns='AHD')\n",
    "X"
   ],
   "metadata": {
    "collapsed": false,
    "ExecuteTime": {
     "end_time": "2024-02-05T11:52:54.633246161Z",
     "start_time": "2024-02-05T11:52:54.610807045Z"
    }
   },
   "id": "8ebd65170bcdfb1"
  },
  {
   "cell_type": "code",
   "execution_count": 61,
   "outputs": [
    {
     "data": {
      "text/plain": "0      0\n1      1\n2      1\n3      0\n4      0\n      ..\n297    1\n298    1\n299    1\n300    1\n301    1\nName: AHD, Length: 299, dtype: int8"
     },
     "execution_count": 61,
     "metadata": {},
     "output_type": "execute_result"
    }
   ],
   "source": [
    "y = df['AHD']\n",
    "y"
   ],
   "metadata": {
    "collapsed": false,
    "ExecuteTime": {
     "end_time": "2024-02-05T11:52:54.822928447Z",
     "start_time": "2024-02-05T11:52:54.791968914Z"
    }
   },
   "id": "533d2562d9d4f64e"
  },
  {
   "cell_type": "code",
   "execution_count": 62,
   "outputs": [
    {
     "data": {
      "text/plain": "     Age  Sex  ChestPain  RestBP  Chol  Fbs  RestECG  MaxHR  ExAng  Oldpeak  \\\n288   56    1          2     130   221    0        2    163      0      0.0   \n28    43    1          0     150   247    0        0    171      0      1.5   \n157   58    1          0     125   300    0        2    171      0      0.0   \n63    54    0          1     135   304    1        0    170      0      0.0   \n241   41    0          2     126   306    0        0    163      0      0.0   \n..   ...  ...        ...     ...   ...  ...      ...    ...    ...      ...   \n239   42    1          2     120   295    0        0    162      0      0.0   \n31    60    1          0     117   230    1        0    160      1      1.4   \n40    65    0          0     150   225    0        2    114      0      1.0   \n232   49    1          1     118   149    0        2    126      0      0.8   \n83    68    1          1     180   274    1        2    150      1      1.6   \n\n     Slope   Ca  Thal  \n288      1  0.0     2  \n28       1  0.0     1  \n157      1  2.0     2  \n63       1  0.0     1  \n241      1  0.0     1  \n..     ...  ...   ...  \n239      1  0.0     1  \n31       1  2.0     2  \n40       2  3.0     2  \n232      1  3.0     1  \n83       2  0.0     2  \n\n[239 rows x 13 columns]",
      "text/html": "<div>\n<style scoped>\n    .dataframe tbody tr th:only-of-type {\n        vertical-align: middle;\n    }\n\n    .dataframe tbody tr th {\n        vertical-align: top;\n    }\n\n    .dataframe thead th {\n        text-align: right;\n    }\n</style>\n<table border=\"1\" class=\"dataframe\">\n  <thead>\n    <tr style=\"text-align: right;\">\n      <th></th>\n      <th>Age</th>\n      <th>Sex</th>\n      <th>ChestPain</th>\n      <th>RestBP</th>\n      <th>Chol</th>\n      <th>Fbs</th>\n      <th>RestECG</th>\n      <th>MaxHR</th>\n      <th>ExAng</th>\n      <th>Oldpeak</th>\n      <th>Slope</th>\n      <th>Ca</th>\n      <th>Thal</th>\n    </tr>\n  </thead>\n  <tbody>\n    <tr>\n      <th>288</th>\n      <td>56</td>\n      <td>1</td>\n      <td>2</td>\n      <td>130</td>\n      <td>221</td>\n      <td>0</td>\n      <td>2</td>\n      <td>163</td>\n      <td>0</td>\n      <td>0.0</td>\n      <td>1</td>\n      <td>0.0</td>\n      <td>2</td>\n    </tr>\n    <tr>\n      <th>28</th>\n      <td>43</td>\n      <td>1</td>\n      <td>0</td>\n      <td>150</td>\n      <td>247</td>\n      <td>0</td>\n      <td>0</td>\n      <td>171</td>\n      <td>0</td>\n      <td>1.5</td>\n      <td>1</td>\n      <td>0.0</td>\n      <td>1</td>\n    </tr>\n    <tr>\n      <th>157</th>\n      <td>58</td>\n      <td>1</td>\n      <td>0</td>\n      <td>125</td>\n      <td>300</td>\n      <td>0</td>\n      <td>2</td>\n      <td>171</td>\n      <td>0</td>\n      <td>0.0</td>\n      <td>1</td>\n      <td>2.0</td>\n      <td>2</td>\n    </tr>\n    <tr>\n      <th>63</th>\n      <td>54</td>\n      <td>0</td>\n      <td>1</td>\n      <td>135</td>\n      <td>304</td>\n      <td>1</td>\n      <td>0</td>\n      <td>170</td>\n      <td>0</td>\n      <td>0.0</td>\n      <td>1</td>\n      <td>0.0</td>\n      <td>1</td>\n    </tr>\n    <tr>\n      <th>241</th>\n      <td>41</td>\n      <td>0</td>\n      <td>2</td>\n      <td>126</td>\n      <td>306</td>\n      <td>0</td>\n      <td>0</td>\n      <td>163</td>\n      <td>0</td>\n      <td>0.0</td>\n      <td>1</td>\n      <td>0.0</td>\n      <td>1</td>\n    </tr>\n    <tr>\n      <th>...</th>\n      <td>...</td>\n      <td>...</td>\n      <td>...</td>\n      <td>...</td>\n      <td>...</td>\n      <td>...</td>\n      <td>...</td>\n      <td>...</td>\n      <td>...</td>\n      <td>...</td>\n      <td>...</td>\n      <td>...</td>\n      <td>...</td>\n    </tr>\n    <tr>\n      <th>239</th>\n      <td>42</td>\n      <td>1</td>\n      <td>2</td>\n      <td>120</td>\n      <td>295</td>\n      <td>0</td>\n      <td>0</td>\n      <td>162</td>\n      <td>0</td>\n      <td>0.0</td>\n      <td>1</td>\n      <td>0.0</td>\n      <td>1</td>\n    </tr>\n    <tr>\n      <th>31</th>\n      <td>60</td>\n      <td>1</td>\n      <td>0</td>\n      <td>117</td>\n      <td>230</td>\n      <td>1</td>\n      <td>0</td>\n      <td>160</td>\n      <td>1</td>\n      <td>1.4</td>\n      <td>1</td>\n      <td>2.0</td>\n      <td>2</td>\n    </tr>\n    <tr>\n      <th>40</th>\n      <td>65</td>\n      <td>0</td>\n      <td>0</td>\n      <td>150</td>\n      <td>225</td>\n      <td>0</td>\n      <td>2</td>\n      <td>114</td>\n      <td>0</td>\n      <td>1.0</td>\n      <td>2</td>\n      <td>3.0</td>\n      <td>2</td>\n    </tr>\n    <tr>\n      <th>232</th>\n      <td>49</td>\n      <td>1</td>\n      <td>1</td>\n      <td>118</td>\n      <td>149</td>\n      <td>0</td>\n      <td>2</td>\n      <td>126</td>\n      <td>0</td>\n      <td>0.8</td>\n      <td>1</td>\n      <td>3.0</td>\n      <td>1</td>\n    </tr>\n    <tr>\n      <th>83</th>\n      <td>68</td>\n      <td>1</td>\n      <td>1</td>\n      <td>180</td>\n      <td>274</td>\n      <td>1</td>\n      <td>2</td>\n      <td>150</td>\n      <td>1</td>\n      <td>1.6</td>\n      <td>2</td>\n      <td>0.0</td>\n      <td>2</td>\n    </tr>\n  </tbody>\n</table>\n<p>239 rows × 13 columns</p>\n</div>"
     },
     "execution_count": 62,
     "metadata": {},
     "output_type": "execute_result"
    }
   ],
   "source": [
    "X_train, X_test, y_train, y_test = train_test_split(X, y, test_size=0.2, random_state=23)\n",
    "X_train"
   ],
   "metadata": {
    "collapsed": false,
    "ExecuteTime": {
     "end_time": "2024-02-05T11:52:55.318240948Z",
     "start_time": "2024-02-05T11:52:55.302956452Z"
    }
   },
   "id": "68c02d0e844a8392"
  },
  {
   "cell_type": "code",
   "execution_count": 63,
   "outputs": [
    {
     "data": {
      "text/plain": "array([[ 0.17729104,  0.71600156,  1.17409644, ..., -0.99659812,\n        -0.6946345 ,  1.10922275],\n       [-1.22792139,  0.71600156, -0.87414479, ..., -0.99659812,\n        -0.6946345 , -0.5072665 ],\n       [ 0.39347757,  0.71600156, -0.87414479, ..., -0.99659812,\n         1.39363776,  1.10922275],\n       ...,\n       [ 1.15013042, -1.39664501, -0.87414479, ...,  0.57042129,\n         2.43777389,  1.10922275],\n       [-0.5793618 ,  0.71600156,  0.14997582, ..., -0.99659812,\n         2.43777389, -0.5072665 ],\n       [ 1.47441021,  0.71600156,  0.14997582, ...,  0.57042129,\n        -0.6946345 ,  1.10922275]])"
     },
     "execution_count": 63,
     "metadata": {},
     "output_type": "execute_result"
    }
   ],
   "source": [
    "scalar = StandardScaler()\n",
    "X_train_scaled = scalar.fit_transform(X_train)\n",
    "\n",
    "X_test_scaled = scalar.fit_transform(X_test)\n",
    "X_train_scaled"
   ],
   "metadata": {
    "collapsed": false,
    "ExecuteTime": {
     "end_time": "2024-02-05T11:52:56.069767499Z",
     "start_time": "2024-02-05T11:52:56.062151165Z"
    }
   },
   "id": "831645323aa24662"
  },
  {
   "cell_type": "code",
   "execution_count": 64,
   "outputs": [
    {
     "data": {
      "text/plain": "array([[ 0.98510817, -1.6583124 ,  1.35768436,  0.75110481, -1.01738566,\n        -0.33333333, -0.78842985,  1.20927494, -0.70710678, -0.92166598,\n        -0.93541435,  1.54281616, -0.51199211],\n       [ 0.73251633, -1.6583124 , -0.87412555,  1.07163318,  1.24272398,\n        -0.33333333,  1.26834366, -0.16996722,  1.41421356, -0.00610375,\n         1.06904497, -0.83074716,  1.19464826],\n       [ 1.61658777,  0.60302269,  0.24177941, -0.65922001,  0.63733747,\n        -0.33333333, -0.78842985,  0.03900887, -0.70710678, -0.00610375,\n        -0.93541435,  0.3560345 ,  1.19464826],\n       [-0.27785102,  0.60302269, -0.87412555, -0.33869164,  0.73823522,\n        -0.33333333, -0.78842985, -2.30152328,  1.41421356,  0.90945848,\n         1.06904497,  1.54281616,  1.19464826],\n       [-0.40414694,  0.60302269,  0.24177941,  2.80248638, -0.93666746,\n         3.        , -0.78842985,  0.49875626, -0.70710678, -0.46388486,\n        -0.93541435, -0.83074716,  1.19464826],\n       [ 0.47992449,  0.60302269,  1.35768436,  0.75110481, -0.49271735,\n        -0.33333333, -0.78842985,  0.58234669,  1.41421356, -0.92166598,\n        -0.93541435, -0.83074716, -0.51199211],\n       [ 0.73251633, -1.6583124 , -0.87412555,  0.11004807,  1.70685364,\n        -0.33333333,  1.26834366,  0.79132277, -0.70710678, -0.92166598,\n        -0.93541435, -0.83074716, -0.51199211],\n       [-1.16192246,  0.60302269,  0.24177941,  1.39216155, -0.29092185,\n        -0.33333333, -0.78842985, -0.128172  , -0.70710678,  2.37435805,\n         1.06904497, -0.83074716, -0.51199211],\n       [ 1.11140409,  0.60302269,  0.24177941, -0.2104803 ,  1.28308308,\n        -0.33333333, -0.78842985, -0.79689547,  1.41421356,  0.72634604,\n         1.06904497, -0.83074716,  1.19464826],\n       [ 0.85881225,  0.60302269,  1.35768436, -0.53100867,  0.71805567,\n        -0.33333333,  1.26834366, -1.96716154, -0.70710678,  0.36012114,\n         1.06904497,  0.3560345 ,  1.19464826],\n       [-1.91969798,  0.60302269, -0.87412555,  1.5203729 , -0.45235825,\n        -0.33333333, -0.78842985,  1.29286538, -0.70710678, -0.92166598,\n        -0.93541435, -0.83074716,  1.19464826],\n       [ 0.98510817, -1.6583124 ,  0.24177941,  0.43057644,  0.13284871,\n        -0.33333333,  1.26834366,  0.91670843, -0.70710678, -0.92166598,\n        -0.93541435, -0.83074716, -0.51199211],\n       [-1.4145143 ,  0.60302269, -0.87412555, -1.17206541, -0.97702656,\n        -0.33333333,  1.26834366,  1.12568451, -0.70710678, -0.92166598,\n        -0.93541435,  0.3560345 , -0.51199211],\n       [ 0.35362857, -1.6583124 , -0.87412555,  2.67427503, -0.41199915,\n         3.        ,  1.26834366, -0.16996722,  1.41421356,  1.64190826,\n         1.06904497,  1.54281616, -2.21863248],\n       [ 0.35362857,  0.60302269, -0.87412555, -0.01816327,  0.27410556,\n        -0.33333333,  1.26834366, -0.83869069,  1.41421356,  1.82502071,\n         1.06904497,  1.54281616,  1.19464826],\n       [ 0.22733266,  0.60302269, -0.87412555,  0.23825942, -0.77523106,\n        -0.33333333, -0.78842985,  0.74952756,  1.41421356, -0.92166598,\n        -0.93541435, -0.83074716,  1.19464826],\n       [-0.1515551 ,  0.60302269, -0.87412555, -1.17206541, -0.12948545,\n        -0.33333333, -0.78842985, -1.00587155,  1.41421356,  1.64190826,\n         1.06904497,  0.3560345 ,  1.19464826],\n       [ 1.11140409, -1.6583124 , -0.87412555,  0.11004807,  1.16200578,\n        -0.33333333, -0.78842985, -1.17305242, -0.70710678,  0.90945848,\n         1.06904497,  1.54281616, -0.51199211],\n       [-1.28821838,  0.60302269,  1.35768436, -0.01816327,  1.26290353,\n        -0.33333333,  1.26834366,  0.83311799, -0.70710678, -0.92166598,\n        -0.93541435, -0.83074716, -0.51199211],\n       [-1.28821838, -1.6583124 ,  1.35768436, -1.04385406, -1.72366993,\n        -0.33333333, -0.78842985, -0.50432895, -0.70710678, -0.92166598,\n         1.06904497, -0.83074716, -0.51199211],\n       [ 1.23770001,  0.60302269, -0.87412555, -1.17206541,  0.05213051,\n        -0.33333333,  1.26834366,  0.33157539, -0.70710678, -0.37232864,\n        -0.93541435,  1.54281616, -2.21863248],\n       [-0.1515551 ,  0.60302269, -0.87412555, -0.53100867, -1.15864252,\n        -0.33333333, -0.78842985, -1.54920938, -0.70710678,  0.36012114,\n         1.06904497,  0.3560345 ,  1.19464826],\n       [-1.03562654,  0.60302269,  0.24177941, -1.30027675, -0.04876725,\n        -0.33333333, -0.78842985,  0.08080409, -0.70710678, -0.92166598,\n        -0.93541435, -0.83074716, -0.51199211],\n       [ 0.73251633,  0.60302269, -0.87412555,  0.75110481, -0.77523106,\n        -0.33333333,  1.26834366, -0.50432895,  1.41421356,  0.81790226,\n        -0.93541435,  0.3560345 ,  1.19464826],\n       [ 0.98510817, -1.6583124 , -0.87412555, -1.30027675,  0.47590106,\n        -0.33333333, -0.78842985,  0.79132277,  1.41421356,  0.72634604,\n         1.06904497,  1.54281616, -0.51199211],\n       [ 0.47992449,  0.60302269, -0.87412555,  0.62289347,  0.51626016,\n        -0.33333333,  1.26834366,  1.33466059, -0.70710678, -0.92166598,\n        -0.93541435, -0.83074716, -0.51199211],\n       [-1.54081022,  0.60302269,  0.24177941,  0.11004807,  1.40416038,\n        -0.33333333, -0.78842985,  0.49875626, -0.70710678,  0.81790226,\n        -0.93541435,  0.3560345 , -0.51199211],\n       [ 0.35362857,  0.60302269,  0.24177941,  0.75110481, -0.69451286,\n         3.        ,  1.26834366,  0.62414191, -0.70710678, -0.92166598,\n        -0.93541435, -0.83074716, -0.51199211],\n       [-0.1515551 , -1.6583124 ,  0.24177941,  2.03321829, -0.89630836,\n        -0.33333333, -0.78842985,  0.54055147, -0.70710678, -0.92166598,\n        -0.93541435,  0.3560345 , -0.51199211],\n       [-0.53044286,  0.60302269,  2.47358931, -0.2104803 , -0.65415376,\n        -0.33333333,  1.26834366, -1.04766677,  1.41421356,  0.36012114,\n        -0.93541435,  0.3560345 , -0.51199211],\n       [-0.40414694,  0.60302269, -0.87412555, -0.01816327,  0.19338736,\n        -0.33333333, -0.78842985,  0.45696104,  1.41421356, -0.92166598,\n        -0.93541435,  0.3560345 ,  1.19464826],\n       [-0.02525918,  0.60302269, -0.87412555,  0.23825942,  2.17098329,\n        -0.33333333, -0.78842985, -0.75510025,  1.41421356,  0.1770087 ,\n         1.06904497,  0.3560345 ,  1.19464826],\n       [-0.02525918,  0.60302269,  1.35768436,  0.11004807,  0.33464421,\n        -0.33333333, -0.78842985,  0.20618974, -0.70710678, -0.92166598,\n        -0.93541435, -0.83074716, -0.51199211],\n       [ 0.35362857, -1.6583124 , -0.87412555,  0.11004807, -0.97702656,\n        -0.33333333, -0.78842985, -0.79689547, -0.70710678, -0.37232864,\n         1.06904497, -0.83074716, -0.51199211],\n       [ 0.22733266,  0.60302269, -0.87412555,  0.75110481, -1.07792432,\n        -0.33333333, -0.78842985, -0.08637678, -0.70710678, -0.55544109,\n         1.06904497, -0.83074716, -2.21863248],\n       [ 0.85881225, -1.6583124 , -0.87412555,  0.75110481,  2.99834486,\n        -0.33333333,  1.26834366,  0.28978017, -0.70710678,  0.1770087 ,\n         1.06904497, -0.83074716, -0.51199211],\n       [ 1.61658777,  0.60302269, -0.87412555,  1.00752751, -1.05774476,\n         3.        , -0.78842985, -0.3789433 , -0.70710678,  2.1912456 ,\n         1.06904497,  1.54281616,  1.19464826],\n       [-0.53044286,  0.60302269,  0.24177941, -1.17206541, -1.42097667,\n        -0.33333333, -0.78842985, -1.13125721, -0.70710678, -0.37232864,\n        -0.93541435, -0.83074716, -0.51199211],\n       [ 1.36399593,  0.60302269, -0.87412555, -1.04385406, -0.67433331,\n        -0.33333333,  1.26834366, -0.75510025,  1.41421356, -0.83010975,\n        -0.93541435,  0.3560345 , -0.51199211],\n       [-1.79340206,  0.60302269,  1.35768436, -0.53100867, -1.78420858,\n        -0.33333333, -0.78842985,  1.33466059, -0.70710678, -0.92166598,\n        -0.93541435, -0.83074716, -0.51199211],\n       [-0.53044286,  0.60302269, -0.87412555,  0.75110481,  1.08128757,\n        -0.33333333, -0.78842985,  0.95850364,  1.41421356,  0.54323359,\n        -0.93541435, -0.83074716,  1.19464826],\n       [-0.1515551 ,  0.60302269, -0.87412555, -0.40279732,  0.81895342,\n        -0.33333333,  1.26834366, -1.42382372,  1.41421356,  2.00813316,\n         1.06904497,  1.54281616, -0.51199211],\n       [-0.1515551 ,  0.60302269,  1.35768436, -1.30027675,  1.28308308,\n        -0.33333333, -0.78842985,  0.24798495, -0.70710678, -0.92166598,\n        -0.93541435, -0.83074716,  1.19464826],\n       [-2.55117757, -1.6583124 , -0.87412555,  0.62289347, -1.25954027,\n        -0.33333333, -0.78842985,  1.33466059, -0.70710678,  0.36012114,\n        -0.93541435, -0.83074716, -0.51199211],\n       [ 0.85881225, -1.6583124 , -0.87412555,  0.62289347,  0.98038982,\n         3.        , -0.78842985, -1.84177589, -0.70710678,  0.81790226,\n         1.06904497,  2.72959781, -0.51199211],\n       [ 1.86917961,  0.60302269, -0.87412555,  0.11004807,  1.54541723,\n        -0.33333333,  1.26834366, -1.71639024, -0.70710678,  1.27568337,\n         1.06904497,  2.72959781, -0.51199211],\n       [ 0.22733266,  0.60302269, -0.87412555,  1.5203729 ,  0.57679881,\n        -0.33333333, -0.78842985, -2.5940898 ,  1.41421356,  0.1770087 ,\n         1.06904497,  0.3560345 ,  1.19464826],\n       [ 0.85881225,  0.60302269,  1.35768436, -0.01816327, -0.75505151,\n         3.        ,  1.26834366, -0.42073852, -0.70710678, -0.92166598,\n        -0.93541435, -0.83074716, -0.51199211],\n       [ 0.22733266, -1.6583124 ,  1.35768436,  0.11004807, -0.1900241 ,\n        -0.33333333,  1.26834366,  1.00029886, -0.70710678, -0.92166598,\n         1.06904497,  0.3560345 , -0.51199211],\n       [-0.7830347 ,  0.60302269,  1.35768436,  0.11004807,  0.41536241,\n        -0.33333333, -0.78842985,  0.87491321, -0.70710678, -0.37232864,\n        -0.93541435, -0.83074716, -0.51199211],\n       [-0.53044286,  0.60302269,  0.24177941, -2.19775619, -0.37164005,\n        -0.33333333, -0.78842985,  0.16439452,  1.41421356, -0.92166598,\n        -0.93541435,  0.3560345 ,  1.19464826],\n       [-0.53044286,  0.60302269,  0.24177941, -1.81312215, -0.4725378 ,\n        -0.33333333, -0.78842985, -0.29535287,  1.41421356,  0.1770087 ,\n         1.06904497, -0.83074716, -0.51199211],\n       [-0.40414694,  0.60302269,  2.47358931, -0.65922001, -1.19900162,\n        -0.33333333,  1.26834366,  1.66902233, -0.70710678, -0.92166598,\n         1.06904497, -0.83074716, -2.21863248],\n       [-1.54081022, -1.6583124 ,  0.24177941, -0.40279732, -0.65415376,\n        -0.33333333, -0.78842985,  0.62414191, -0.70710678, -0.73855353,\n         1.06904497, -0.83074716, -0.51199211],\n       [ 0.73251633,  0.60302269, -0.87412555, -0.53100867,  0.29428511,\n        -0.33333333, -0.78842985, -0.42073852,  1.41421356,  2.37435805,\n         1.06904497,  0.3560345 ,  1.19464826],\n       [-2.55117757,  0.60302269,  1.35768436, -0.40279732, -1.07792432,\n        -0.33333333, -0.78842985,  1.00029886, -0.70710678, -0.92166598,\n        -0.93541435, -0.83074716, -0.51199211],\n       [ 0.98510817,  0.60302269, -0.87412555,  0.11004807,  0.17320781,\n        -0.33333333,  1.26834366, -0.128172  , -0.70710678,  0.36012114,\n         1.06904497,  0.3560345 ,  1.19464826],\n       [ 0.10103674,  0.60302269,  1.35768436, -0.53100867, -0.1900241 ,\n        -0.33333333, -0.78842985,  1.16747973, -0.70710678, -0.18921619,\n        -0.93541435, -0.83074716, -0.51199211],\n       [ 0.35362857,  0.60302269,  0.24177941, -1.04385406, -0.3111014 ,\n        -0.33333333,  1.26834366,  0.62414191, -0.70710678,  1.3672396 ,\n         1.06904497,  0.3560345 ,  1.19464826],\n       [-0.1515551 , -1.6583124 ,  0.24177941, -1.30027675,  0.43554196,\n        -0.33333333,  1.26834366,  0.70773234, -0.70710678, -0.92166598,\n        -0.93541435, -0.83074716, -0.51199211]])"
     },
     "execution_count": 64,
     "metadata": {},
     "output_type": "execute_result"
    }
   ],
   "source": [
    "X_test_scaled"
   ],
   "metadata": {
    "collapsed": false,
    "ExecuteTime": {
     "end_time": "2024-02-05T11:52:56.777342146Z",
     "start_time": "2024-02-05T11:52:56.774608927Z"
    }
   },
   "id": "37a04efbc9ca0add"
  },
  {
   "cell_type": "code",
   "execution_count": 65,
   "outputs": [],
   "source": [
    "model = LogisticRegression()"
   ],
   "metadata": {
    "collapsed": false,
    "ExecuteTime": {
     "end_time": "2024-02-05T11:52:57.510220295Z",
     "start_time": "2024-02-05T11:52:57.501051716Z"
    }
   },
   "id": "ca7db81eb69665fb"
  },
  {
   "cell_type": "code",
   "execution_count": 66,
   "outputs": [
    {
     "data": {
      "text/plain": "LogisticRegression()",
      "text/html": "<style>#sk-container-id-1 {\n  /* Definition of color scheme common for light and dark mode */\n  --sklearn-color-text: black;\n  --sklearn-color-line: gray;\n  /* Definition of color scheme for unfitted estimators */\n  --sklearn-color-unfitted-level-0: #fff5e6;\n  --sklearn-color-unfitted-level-1: #f6e4d2;\n  --sklearn-color-unfitted-level-2: #ffe0b3;\n  --sklearn-color-unfitted-level-3: chocolate;\n  /* Definition of color scheme for fitted estimators */\n  --sklearn-color-fitted-level-0: #f0f8ff;\n  --sklearn-color-fitted-level-1: #d4ebff;\n  --sklearn-color-fitted-level-2: #b3dbfd;\n  --sklearn-color-fitted-level-3: cornflowerblue;\n\n  /* Specific color for light theme */\n  --sklearn-color-text-on-default-background: var(--sg-text-color, var(--theme-code-foreground, var(--jp-content-font-color1, black)));\n  --sklearn-color-background: var(--sg-background-color, var(--theme-background, var(--jp-layout-color0, white)));\n  --sklearn-color-border-box: var(--sg-text-color, var(--theme-code-foreground, var(--jp-content-font-color1, black)));\n  --sklearn-color-icon: #696969;\n\n  @media (prefers-color-scheme: dark) {\n    /* Redefinition of color scheme for dark theme */\n    --sklearn-color-text-on-default-background: var(--sg-text-color, var(--theme-code-foreground, var(--jp-content-font-color1, white)));\n    --sklearn-color-background: var(--sg-background-color, var(--theme-background, var(--jp-layout-color0, #111)));\n    --sklearn-color-border-box: var(--sg-text-color, var(--theme-code-foreground, var(--jp-content-font-color1, white)));\n    --sklearn-color-icon: #878787;\n  }\n}\n\n#sk-container-id-1 {\n  color: var(--sklearn-color-text);\n}\n\n#sk-container-id-1 pre {\n  padding: 0;\n}\n\n#sk-container-id-1 input.sk-hidden--visually {\n  border: 0;\n  clip: rect(1px 1px 1px 1px);\n  clip: rect(1px, 1px, 1px, 1px);\n  height: 1px;\n  margin: -1px;\n  overflow: hidden;\n  padding: 0;\n  position: absolute;\n  width: 1px;\n}\n\n#sk-container-id-1 div.sk-dashed-wrapped {\n  border: 1px dashed var(--sklearn-color-line);\n  margin: 0 0.4em 0.5em 0.4em;\n  box-sizing: border-box;\n  padding-bottom: 0.4em;\n  background-color: var(--sklearn-color-background);\n}\n\n#sk-container-id-1 div.sk-container {\n  /* jupyter's `normalize.less` sets `[hidden] { display: none; }`\n     but bootstrap.min.css set `[hidden] { display: none !important; }`\n     so we also need the `!important` here to be able to override the\n     default hidden behavior on the sphinx rendered scikit-learn.org.\n     See: https://github.com/scikit-learn/scikit-learn/issues/21755 */\n  display: inline-block !important;\n  position: relative;\n}\n\n#sk-container-id-1 div.sk-text-repr-fallback {\n  display: none;\n}\n\ndiv.sk-parallel-item,\ndiv.sk-serial,\ndiv.sk-item {\n  /* draw centered vertical line to link estimators */\n  background-image: linear-gradient(var(--sklearn-color-text-on-default-background), var(--sklearn-color-text-on-default-background));\n  background-size: 2px 100%;\n  background-repeat: no-repeat;\n  background-position: center center;\n}\n\n/* Parallel-specific style estimator block */\n\n#sk-container-id-1 div.sk-parallel-item::after {\n  content: \"\";\n  width: 100%;\n  border-bottom: 2px solid var(--sklearn-color-text-on-default-background);\n  flex-grow: 1;\n}\n\n#sk-container-id-1 div.sk-parallel {\n  display: flex;\n  align-items: stretch;\n  justify-content: center;\n  background-color: var(--sklearn-color-background);\n  position: relative;\n}\n\n#sk-container-id-1 div.sk-parallel-item {\n  display: flex;\n  flex-direction: column;\n}\n\n#sk-container-id-1 div.sk-parallel-item:first-child::after {\n  align-self: flex-end;\n  width: 50%;\n}\n\n#sk-container-id-1 div.sk-parallel-item:last-child::after {\n  align-self: flex-start;\n  width: 50%;\n}\n\n#sk-container-id-1 div.sk-parallel-item:only-child::after {\n  width: 0;\n}\n\n/* Serial-specific style estimator block */\n\n#sk-container-id-1 div.sk-serial {\n  display: flex;\n  flex-direction: column;\n  align-items: center;\n  background-color: var(--sklearn-color-background);\n  padding-right: 1em;\n  padding-left: 1em;\n}\n\n\n/* Toggleable style: style used for estimator/Pipeline/ColumnTransformer box that is\nclickable and can be expanded/collapsed.\n- Pipeline and ColumnTransformer use this feature and define the default style\n- Estimators will overwrite some part of the style using the `sk-estimator` class\n*/\n\n/* Pipeline and ColumnTransformer style (default) */\n\n#sk-container-id-1 div.sk-toggleable {\n  /* Default theme specific background. It is overwritten whether we have a\n  specific estimator or a Pipeline/ColumnTransformer */\n  background-color: var(--sklearn-color-background);\n}\n\n/* Toggleable label */\n#sk-container-id-1 label.sk-toggleable__label {\n  cursor: pointer;\n  display: block;\n  width: 100%;\n  margin-bottom: 0;\n  padding: 0.5em;\n  box-sizing: border-box;\n  text-align: center;\n}\n\n#sk-container-id-1 label.sk-toggleable__label-arrow:before {\n  /* Arrow on the left of the label */\n  content: \"▸\";\n  float: left;\n  margin-right: 0.25em;\n  color: var(--sklearn-color-icon);\n}\n\n#sk-container-id-1 label.sk-toggleable__label-arrow:hover:before {\n  color: var(--sklearn-color-text);\n}\n\n/* Toggleable content - dropdown */\n\n#sk-container-id-1 div.sk-toggleable__content {\n  max-height: 0;\n  max-width: 0;\n  overflow: hidden;\n  text-align: left;\n  /* unfitted */\n  background-color: var(--sklearn-color-unfitted-level-0);\n}\n\n#sk-container-id-1 div.sk-toggleable__content.fitted {\n  /* fitted */\n  background-color: var(--sklearn-color-fitted-level-0);\n}\n\n#sk-container-id-1 div.sk-toggleable__content pre {\n  margin: 0.2em;\n  border-radius: 0.25em;\n  color: var(--sklearn-color-text);\n  /* unfitted */\n  background-color: var(--sklearn-color-unfitted-level-0);\n}\n\n#sk-container-id-1 div.sk-toggleable__content.fitted pre {\n  /* unfitted */\n  background-color: var(--sklearn-color-fitted-level-0);\n}\n\n#sk-container-id-1 input.sk-toggleable__control:checked~div.sk-toggleable__content {\n  /* Expand drop-down */\n  max-height: 200px;\n  max-width: 100%;\n  overflow: auto;\n}\n\n#sk-container-id-1 input.sk-toggleable__control:checked~label.sk-toggleable__label-arrow:before {\n  content: \"▾\";\n}\n\n/* Pipeline/ColumnTransformer-specific style */\n\n#sk-container-id-1 div.sk-label input.sk-toggleable__control:checked~label.sk-toggleable__label {\n  color: var(--sklearn-color-text);\n  background-color: var(--sklearn-color-unfitted-level-2);\n}\n\n#sk-container-id-1 div.sk-label.fitted input.sk-toggleable__control:checked~label.sk-toggleable__label {\n  background-color: var(--sklearn-color-fitted-level-2);\n}\n\n/* Estimator-specific style */\n\n/* Colorize estimator box */\n#sk-container-id-1 div.sk-estimator input.sk-toggleable__control:checked~label.sk-toggleable__label {\n  /* unfitted */\n  background-color: var(--sklearn-color-unfitted-level-2);\n}\n\n#sk-container-id-1 div.sk-estimator.fitted input.sk-toggleable__control:checked~label.sk-toggleable__label {\n  /* fitted */\n  background-color: var(--sklearn-color-fitted-level-2);\n}\n\n#sk-container-id-1 div.sk-label label.sk-toggleable__label,\n#sk-container-id-1 div.sk-label label {\n  /* The background is the default theme color */\n  color: var(--sklearn-color-text-on-default-background);\n}\n\n/* On hover, darken the color of the background */\n#sk-container-id-1 div.sk-label:hover label.sk-toggleable__label {\n  color: var(--sklearn-color-text);\n  background-color: var(--sklearn-color-unfitted-level-2);\n}\n\n/* Label box, darken color on hover, fitted */\n#sk-container-id-1 div.sk-label.fitted:hover label.sk-toggleable__label.fitted {\n  color: var(--sklearn-color-text);\n  background-color: var(--sklearn-color-fitted-level-2);\n}\n\n/* Estimator label */\n\n#sk-container-id-1 div.sk-label label {\n  font-family: monospace;\n  font-weight: bold;\n  display: inline-block;\n  line-height: 1.2em;\n}\n\n#sk-container-id-1 div.sk-label-container {\n  text-align: center;\n}\n\n/* Estimator-specific */\n#sk-container-id-1 div.sk-estimator {\n  font-family: monospace;\n  border: 1px dotted var(--sklearn-color-border-box);\n  border-radius: 0.25em;\n  box-sizing: border-box;\n  margin-bottom: 0.5em;\n  /* unfitted */\n  background-color: var(--sklearn-color-unfitted-level-0);\n}\n\n#sk-container-id-1 div.sk-estimator.fitted {\n  /* fitted */\n  background-color: var(--sklearn-color-fitted-level-0);\n}\n\n/* on hover */\n#sk-container-id-1 div.sk-estimator:hover {\n  /* unfitted */\n  background-color: var(--sklearn-color-unfitted-level-2);\n}\n\n#sk-container-id-1 div.sk-estimator.fitted:hover {\n  /* fitted */\n  background-color: var(--sklearn-color-fitted-level-2);\n}\n\n/* Specification for estimator info (e.g. \"i\" and \"?\") */\n\n/* Common style for \"i\" and \"?\" */\n\n.sk-estimator-doc-link,\na:link.sk-estimator-doc-link,\na:visited.sk-estimator-doc-link {\n  float: right;\n  font-size: smaller;\n  line-height: 1em;\n  font-family: monospace;\n  background-color: var(--sklearn-color-background);\n  border-radius: 1em;\n  height: 1em;\n  width: 1em;\n  text-decoration: none !important;\n  margin-left: 1ex;\n  /* unfitted */\n  border: var(--sklearn-color-unfitted-level-1) 1pt solid;\n  color: var(--sklearn-color-unfitted-level-1);\n}\n\n.sk-estimator-doc-link.fitted,\na:link.sk-estimator-doc-link.fitted,\na:visited.sk-estimator-doc-link.fitted {\n  /* fitted */\n  border: var(--sklearn-color-fitted-level-1) 1pt solid;\n  color: var(--sklearn-color-fitted-level-1);\n}\n\n/* On hover */\ndiv.sk-estimator:hover .sk-estimator-doc-link:hover,\n.sk-estimator-doc-link:hover,\ndiv.sk-label-container:hover .sk-estimator-doc-link:hover,\n.sk-estimator-doc-link:hover {\n  /* unfitted */\n  background-color: var(--sklearn-color-unfitted-level-3);\n  color: var(--sklearn-color-background);\n  text-decoration: none;\n}\n\ndiv.sk-estimator.fitted:hover .sk-estimator-doc-link.fitted:hover,\n.sk-estimator-doc-link.fitted:hover,\ndiv.sk-label-container:hover .sk-estimator-doc-link.fitted:hover,\n.sk-estimator-doc-link.fitted:hover {\n  /* fitted */\n  background-color: var(--sklearn-color-fitted-level-3);\n  color: var(--sklearn-color-background);\n  text-decoration: none;\n}\n\n/* Span, style for the box shown on hovering the info icon */\n.sk-estimator-doc-link span {\n  display: none;\n  z-index: 9999;\n  position: relative;\n  font-weight: normal;\n  right: .2ex;\n  padding: .5ex;\n  margin: .5ex;\n  width: min-content;\n  min-width: 20ex;\n  max-width: 50ex;\n  color: var(--sklearn-color-text);\n  box-shadow: 2pt 2pt 4pt #999;\n  /* unfitted */\n  background: var(--sklearn-color-unfitted-level-0);\n  border: .5pt solid var(--sklearn-color-unfitted-level-3);\n}\n\n.sk-estimator-doc-link.fitted span {\n  /* fitted */\n  background: var(--sklearn-color-fitted-level-0);\n  border: var(--sklearn-color-fitted-level-3);\n}\n\n.sk-estimator-doc-link:hover span {\n  display: block;\n}\n\n/* \"?\"-specific style due to the `<a>` HTML tag */\n\n#sk-container-id-1 a.estimator_doc_link {\n  float: right;\n  font-size: 1rem;\n  line-height: 1em;\n  font-family: monospace;\n  background-color: var(--sklearn-color-background);\n  border-radius: 1rem;\n  height: 1rem;\n  width: 1rem;\n  text-decoration: none;\n  /* unfitted */\n  color: var(--sklearn-color-unfitted-level-1);\n  border: var(--sklearn-color-unfitted-level-1) 1pt solid;\n}\n\n#sk-container-id-1 a.estimator_doc_link.fitted {\n  /* fitted */\n  border: var(--sklearn-color-fitted-level-1) 1pt solid;\n  color: var(--sklearn-color-fitted-level-1);\n}\n\n/* On hover */\n#sk-container-id-1 a.estimator_doc_link:hover {\n  /* unfitted */\n  background-color: var(--sklearn-color-unfitted-level-3);\n  color: var(--sklearn-color-background);\n  text-decoration: none;\n}\n\n#sk-container-id-1 a.estimator_doc_link.fitted:hover {\n  /* fitted */\n  background-color: var(--sklearn-color-fitted-level-3);\n}\n</style><div id=\"sk-container-id-1\" class=\"sk-top-container\"><div class=\"sk-text-repr-fallback\"><pre>LogisticRegression()</pre><b>In a Jupyter environment, please rerun this cell to show the HTML representation or trust the notebook. <br />On GitHub, the HTML representation is unable to render, please try loading this page with nbviewer.org.</b></div><div class=\"sk-container\" hidden><div class=\"sk-item\"><div class=\"sk-estimator fitted sk-toggleable\"><input class=\"sk-toggleable__control sk-hidden--visually\" id=\"sk-estimator-id-1\" type=\"checkbox\" checked><label for=\"sk-estimator-id-1\" class=\"sk-toggleable__label fitted sk-toggleable__label-arrow fitted\">&nbsp;&nbsp;LogisticRegression<a class=\"sk-estimator-doc-link fitted\" rel=\"noreferrer\" target=\"_blank\" href=\"https://scikit-learn.org/1.4/modules/generated/sklearn.linear_model.LogisticRegression.html\">?<span>Documentation for LogisticRegression</span></a><span class=\"sk-estimator-doc-link fitted\">i<span>Fitted</span></span></label><div class=\"sk-toggleable__content fitted\"><pre>LogisticRegression()</pre></div> </div></div></div></div>"
     },
     "execution_count": 66,
     "metadata": {},
     "output_type": "execute_result"
    }
   ],
   "source": [
    "model.fit(X_train_scaled, y_train)"
   ],
   "metadata": {
    "collapsed": false,
    "ExecuteTime": {
     "end_time": "2024-02-05T11:52:58.140429212Z",
     "start_time": "2024-02-05T11:52:58.132604143Z"
    }
   },
   "id": "cfbc34fd155b39d"
  },
  {
   "cell_type": "code",
   "execution_count": 70,
   "outputs": [],
   "source": [
    "y_pred = model.predict(X_train_scaled)"
   ],
   "metadata": {
    "collapsed": false,
    "ExecuteTime": {
     "end_time": "2024-02-05T12:20:57.794173549Z",
     "start_time": "2024-02-05T12:20:57.786279671Z"
    }
   },
   "id": "5fe0c64e03efade5"
  },
  {
   "cell_type": "code",
   "execution_count": 71,
   "outputs": [],
   "source": [],
   "metadata": {
    "collapsed": false,
    "ExecuteTime": {
     "end_time": "2024-02-05T12:21:15.117112263Z",
     "start_time": "2024-02-05T12:21:15.112156411Z"
    }
   },
   "id": "9b73fbb27974e11c"
  },
  {
   "cell_type": "code",
   "execution_count": null,
   "outputs": [],
   "source": [],
   "metadata": {
    "collapsed": false
   },
   "id": "e913e0e753465774"
  }
 ],
 "metadata": {
  "kernelspec": {
   "display_name": "Python 3",
   "language": "python",
   "name": "python3"
  },
  "language_info": {
   "codemirror_mode": {
    "name": "ipython",
    "version": 2
   },
   "file_extension": ".py",
   "mimetype": "text/x-python",
   "name": "python",
   "nbconvert_exporter": "python",
   "pygments_lexer": "ipython2",
   "version": "2.7.6"
  }
 },
 "nbformat": 4,
 "nbformat_minor": 5
}
